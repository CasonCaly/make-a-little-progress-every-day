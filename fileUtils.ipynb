{
 "metadata": {
  "language_info": {
   "codemirror_mode": {
    "name": "ipython",
    "version": 3
   },
   "file_extension": ".py",
   "mimetype": "text/x-python",
   "name": "python",
   "nbconvert_exporter": "python",
   "pygments_lexer": "ipython3",
   "version": "3.7.5"
  },
  "orig_nbformat": 2,
  "kernelspec": {
   "name": "python375jvsc74a57bd07829761090864817ddb868c19975b340f23b38c504f5ffaec8661c2dba714e9b",
   "display_name": "Python 3.7.5 64-bit"
  }
 },
 "nbformat": 4,
 "nbformat_minor": 2,
 "cells": [
  {
   "cell_type": "code",
   "execution_count": 72,
   "metadata": {},
   "outputs": [],
   "source": [
    "import os\n",
    "import re\n",
    "import shutil\n",
    "from urllib.parse import unquote\n"
   ]
  },
  {
   "cell_type": "code",
   "execution_count": 77,
   "metadata": {},
   "outputs": [],
   "source": [
    "root = r'E:\\_code\\github\\make-a-little-progress-every-day'\n",
    "filename = '清风明月.md'\n",
    "\n",
    "lines = []\n",
    "with open(os.path.join(root, filename), mode='r', encoding='utf') as f:\n",
    "    _lines = f.readlines()\n",
    "    for line in _lines:\n",
    "        line = line.strip()\n",
    "        if line != '':\n",
    "            lines.append(line.strip())\n",
    "# print(lines)\n",
    "\n",
    "def createDir(dirpath):\n",
    "    path = dirpath.strip()\n",
    "    # check if the dirPath exists\n",
    "    if not os.path.exists(path):\n",
    "        os.makedirs(path)\n",
    "        print(\"create <{}> successfully\".format(path))"
   ]
  },
  {
   "cell_type": "code",
   "execution_count": 78,
   "metadata": {},
   "outputs": [
    {
     "output_type": "stream",
     "name": "stdout",
     "text": [
      "create <E:\\_code\\github\\blog\\source\\_posts\\清风明月\\永恒> successfully\n",
      "E:\\_code\\github\\blog\\source\\_posts\\清风明月\\永恒\\20200517-梦开始的地方-DIY低配版谷歌眼镜成功.md\n",
      "create <E:\\_code\\github\\blog\\source\\_posts\\清风明月\\随笔> successfully\n",
      "E:\\_code\\github\\blog\\source\\_posts\\清风明月\\随笔\\20210401-随笔-如何看待全栈工程师.md\n",
      "create <E:\\_code\\github\\blog\\source\\_posts\\清风明月\\旅游> successfully\n",
      "E:\\_code\\github\\blog\\source\\_posts\\清风明月\\旅游\\20210430-旅游-华山两日游（上）.md\n",
      "E:\\_code\\github\\blog\\source\\_posts\\清风明月\\旅游\\20210501-旅游-华山两日游（下）.md\n",
      "E:\\_code\\github\\blog\\source\\_posts\\清风明月\\心情\\20200615-心情-吐槽云服务器呜呜.md\n",
      "E:\\_code\\github\\blog\\source\\_posts\\清风明月\\心情\\20200619-心情-哇论文真难写呜呜.md\n",
      "E:\\_code\\github\\blog\\source\\_posts\\清风明月\\心情\\20200620-心情-大三结课有感.md\n",
      "E:\\_code\\github\\blog\\source\\_posts\\清风明月\\心情\\20200709-心情-休整.md\n",
      "E:\\_code\\github\\blog\\source\\_posts\\清风明月\\心情\\20200713-心情-论文出图试试就逝世.md\n",
      "E:\\_code\\github\\blog\\source\\_posts\\清风明月\\心情\\20200719-心情-创建自己的论文学习笔记库.md\n",
      "E:\\_code\\github\\blog\\source\\_posts\\清风明月\\心情\\20200727-心情-忙里偷闲.md\n",
      "E:\\_code\\github\\blog\\source\\_posts\\清风明月\\心情\\20200814-心情-21岁生日有感.md\n",
      "E:\\_code\\github\\blog\\source\\_posts\\清风明月\\心情\\20200901-心情-雅思口语体验.md\n",
      "E:\\_code\\github\\blog\\source\\_posts\\清风明月\\心情\\20200905-心情-呜呜.md\n",
      "E:\\_code\\github\\blog\\source\\_posts\\清风明月\\心情\\20200918-心情-雅思首战5.5.md\n",
      "E:\\_code\\github\\blog\\source\\_posts\\清风明月\\心情\\20200922-心情-加班真的累.md\n",
      "E:\\_code\\github\\blog\\source\\_posts\\清风明月\\心情\\20201013-心情-沮丧.md\n",
      "E:\\_code\\github\\blog\\source\\_posts\\清风明月\\心情\\20201026-心情-做饭~.md\n",
      "E:\\_code\\github\\blog\\source\\_posts\\清风明月\\心情\\20201117-心情-解锁成就⭐加班到凌晨⭐.md\n",
      "E:\\_code\\github\\blog\\source\\_posts\\清风明月\\心情\\20201127-心情-20201127.md\n",
      "E:\\_code\\github\\blog\\source\\_posts\\清风明月\\心情\\20201221-心情-年会加班呀.md\n",
      "E:\\_code\\github\\blog\\source\\_posts\\清风明月\\心情\\20201231-心情-2020年结束啦.md\n",
      "E:\\_code\\github\\blog\\source\\_posts\\清风明月\\心情\\20210223-心情-科目四完结撒花.md\n",
      "E:\\_code\\github\\blog\\source\\_posts\\清风明月\\心情\\20210302-心情-Hololens2成板砖了呜呜呜.md\n",
      "E:\\_code\\github\\blog\\source\\_posts\\清风明月\\心情\\20210302-心情-又一次体会到了努力的回报，自己把Hololens搞好了.md\n",
      "E:\\_code\\github\\blog\\source\\_posts\\清风明月\\心情\\20210422-心情-开心~毕业论文初稿审查完毕.md\n",
      "E:\\_code\\github\\blog\\source\\_posts\\清风明月\\心情\\20210513-心情-本科毕设展示：戴着AR眼镜度量城市的每一个角落.md\n",
      "create <E:\\_code\\github\\blog\\source\\_posts\\清风明月\\脚本> successfully\n",
      "E:\\_code\\github\\blog\\source\\_posts\\清风明月\\脚本\\20200531-其他-Solo自动更新脚本.md\n"
     ]
    }
   ],
   "source": [
    "postRoot = r'E:\\_code\\github\\blog\\source\\_posts'\n",
    "newFilePath = postRoot\n",
    "curLevel = 0\n",
    "for line in lines:\n",
    "    if line.startswith('# '):\n",
    "        curLevel = 1\n",
    "        matchObj = re.match(r'# (.*)', line)\n",
    "        newFilePath = os.path.join(newFilePath, matchObj.group(1))\n",
    "        # print(newFilePath)\n",
    "        createDir(newFilePath)\n",
    "    elif line.startswith('## '):\n",
    "        if curLevel == 2:\n",
    "            newFilePath = re.search(r'(.*)\\\\.*', newFilePath).group(1)\n",
    "        curLevel = 2\n",
    "        matchObj = re.match(r'.* (.*)', line)\n",
    "        newFilePath = os.path.join(newFilePath, matchObj.group(1))\n",
    "        # print(newFilePath)\n",
    "        createDir(newFilePath)\n",
    "    elif line.startswith('### '):\n",
    "        if curLevel == 3:\n",
    "            newFilePath = re.search(r'(.*)\\\\.*', newFilePath).group(1)\n",
    "        curLevel = 3\n",
    "        matchObj = re.match(r'.* (.*)', line)\n",
    "        newFilePath = os.path.join(newFilePath, matchObj.group(1))\n",
    "        # print(newFilePath)\n",
    "        createDir(newFilePath)\n",
    "    \n",
    "    matchObj = re.search(r'\\* \\[(.*)\\]\\((.*/(.*?-.*?-.*)/.*)\\)', line)\n",
    "    if matchObj:\n",
    "        # print(matchObj.group(1), matchObj.group(2), matchObj.group(3))\n",
    "        filename = matchObj.group(1)\n",
    "        origin_filepath = matchObj.group(2)\n",
    "        createDate = matchObj.group(3)\n",
    "        filename = '{}-{}.md'.format(createDate.replace('-', ''), filename)\n",
    "        filename = os.path.join(newFilePath, filename)\n",
    "        print(filename)\n",
    "        shutil.copy(unquote(origin_filepath), filename)\n"
   ]
  },
  {
   "cell_type": "code",
   "execution_count": null,
   "metadata": {},
   "outputs": [],
   "source": []
  }
 ]
}