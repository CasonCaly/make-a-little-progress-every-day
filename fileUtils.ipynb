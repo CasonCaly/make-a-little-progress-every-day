{
 "cells": [
  {
   "cell_type": "code",
   "execution_count": 1,
   "metadata": {},
   "outputs": [],
   "source": [
    "import os\n",
    "import re\n",
    "import shutil\n",
    "from urllib.parse import unquote\n"
   ]
  },
  {
   "cell_type": "code",
   "execution_count": 2,
   "metadata": {},
   "outputs": [],
   "source": [
    "root = r'E:\\_code\\github\\make-a-little-progress-every-day'\r\n",
    "filename = 'Linux.md'\r\n",
    "\r\n",
    "lines = []\r\n",
    "with open(os.path.join(root, filename), mode='r', encoding='utf') as f:\r\n",
    "    _lines = f.readlines()\r\n",
    "    for line in _lines:\r\n",
    "        line = line.strip()\r\n",
    "        if line != '':\r\n",
    "            lines.append(line.strip())\r\n",
    "# print(lines)\r\n",
    "\r\n",
    "def createDir(dirpath):\r\n",
    "    path = dirpath.strip()\r\n",
    "    # check if the dirPath exists\r\n",
    "    if not os.path.exists(path):\r\n",
    "        os.makedirs(path)\r\n",
    "        print(\"create <{}> successfully\".format(path))"
   ]
  },
  {
   "cell_type": "code",
   "execution_count": 3,
   "metadata": {},
   "outputs": [
    {
     "name": "stdout",
     "output_type": "stream",
     "text": [
      "create <E:\\_code\\github\\blog\\source\\_posts\\Linux> successfully\n",
      "create <E:\\_code\\github\\blog\\source\\_posts\\Linux\\技巧> successfully\n",
      "E:\\_code\\github\\blog\\source\\_posts\\Linux\\技巧\\20210325-Linux-关闭linux终端发出的烦人提示音.md\n",
      "E:\\_code\\github\\blog\\source\\_posts\\Linux\\技巧\\20210326-Linux-解决ssh超时无输入自动断开连接的问题.md\n",
      "E:\\_code\\github\\blog\\source\\_posts\\Linux\\技巧\\20210403-Linux-通过alias设置命令别名.md\n",
      "E:\\_code\\github\\blog\\source\\_posts\\Linux\\技巧\\20210309-Linux-nohup和&后台运行，进程查看及终止.md\n",
      "create <E:\\_code\\github\\blog\\source\\_posts\\Linux\\CentOS> successfully\n",
      "E:\\_code\\github\\blog\\source\\_posts\\Linux\\CentOS\\20210403-CentOS-yum update和yum upgrade的真正区别.md\n",
      "E:\\_code\\github\\blog\\source\\_posts\\Linux\\CentOS\\20210403-CentOS-使用yum提示Error：rpmdb open failed的解决方案.md\n"
     ]
    }
   ],
   "source": [
    "postRoot = r'E:\\_code\\github\\blog\\source\\_posts'\n",
    "newFilePath = postRoot\n",
    "curLevel = 0\n",
    "for line in lines:\n",
    "    if line.startswith('# '):\n",
    "        curLevel = 1\n",
    "        matchObj = re.match(r'# (.*)', line)\n",
    "        newFilePath = os.path.join(newFilePath, matchObj.group(1))\n",
    "        # print(newFilePath)\n",
    "        createDir(newFilePath)\n",
    "    elif line.startswith('## '):\n",
    "        if curLevel == 2:\n",
    "            newFilePath = re.search(r'(.*)\\\\.*', newFilePath).group(1)\n",
    "        curLevel = 2\n",
    "        matchObj = re.match(r'.* (.*)', line)\n",
    "        newFilePath = os.path.join(newFilePath, matchObj.group(1))\n",
    "        # print(newFilePath)\n",
    "        createDir(newFilePath)\n",
    "    elif line.startswith('### '):\n",
    "        if curLevel == 3:\n",
    "            newFilePath = re.search(r'(.*)\\\\.*', newFilePath).group(1)\n",
    "        curLevel = 3\n",
    "        matchObj = re.match(r'.* (.*)', line)\n",
    "        newFilePath = os.path.join(newFilePath, matchObj.group(1))\n",
    "        # print(newFilePath)\n",
    "        createDir(newFilePath)\n",
    "    \n",
    "    matchObj = re.search(r'\\* \\[(.*)\\]\\((.*/(.*?-.*?-.*)/.*)\\)', line)\n",
    "    if matchObj:\n",
    "        # print(matchObj.group(1), matchObj.group(2), matchObj.group(3))\n",
    "        filename = matchObj.group(1)\n",
    "        origin_filepath = matchObj.group(2)\n",
    "        createDate = matchObj.group(3)\n",
    "        filename = '{}-{}.md'.format(createDate.replace('-', ''), filename)\n",
    "        filename = os.path.join(newFilePath, filename)\n",
    "        print(filename)\n",
    "        shutil.copy(unquote(origin_filepath), filename)\n"
   ]
  },
  {
   "cell_type": "code",
   "execution_count": null,
   "metadata": {},
   "outputs": [],
   "source": []
  },
  {
   "cell_type": "code",
   "execution_count": null,
   "metadata": {},
   "outputs": [],
   "source": []
  }
 ],
 "metadata": {
  "kernelspec": {
   "display_name": "Python 3.7.5 64-bit",
   "name": "python375jvsc74a57bd07829761090864817ddb868c19975b340f23b38c504f5ffaec8661c2dba714e9b"
  },
  "language_info": {
   "codemirror_mode": {
    "name": "ipython",
    "version": 3
   },
   "file_extension": ".py",
   "mimetype": "text/x-python",
   "name": "python",
   "nbconvert_exporter": "python",
   "pygments_lexer": "ipython3",
   "version": "3.7.5"
  },
  "orig_nbformat": 2
 },
 "nbformat": 4,
 "nbformat_minor": 2
}