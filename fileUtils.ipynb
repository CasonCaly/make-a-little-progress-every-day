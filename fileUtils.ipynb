{
 "metadata": {
  "language_info": {
   "codemirror_mode": {
    "name": "ipython",
    "version": 3
   },
   "file_extension": ".py",
   "mimetype": "text/x-python",
   "name": "python",
   "nbconvert_exporter": "python",
   "pygments_lexer": "ipython3",
   "version": "3.7.5"
  },
  "orig_nbformat": 2,
  "kernelspec": {
   "name": "python375jvsc74a57bd07829761090864817ddb868c19975b340f23b38c504f5ffaec8661c2dba714e9b",
   "display_name": "Python 3.7.5 64-bit"
  }
 },
 "nbformat": 4,
 "nbformat_minor": 2,
 "cells": [
  {
   "cell_type": "code",
   "execution_count": 1,
   "metadata": {},
   "outputs": [],
   "source": [
    "import os\n",
    "import re"
   ]
  },
  {
   "cell_type": "code",
   "execution_count": 2,
   "metadata": {},
   "outputs": [
    {
     "output_type": "stream",
     "name": "stdout",
     "text": [
      "['# 未来', 'Hololens2 开发手册~', '### 故障修复', '* [Hololens2-重刷系统（正常发布版本和内部预览版本）](./2021/2021-03/2021-03-02/Hololens2-重刷系统（正常发布版本和内部预览版本）.md)', '* [Hololens2-全息远程播放器使用（Holographic Remoting Player）](./2021/2021-03/2021-03-03/Hololens2-全息远程播放器使用（Holographic%20Remoting%20Player）.md)', '* [Hololens2-MixedReality-WebRTC的使用问题](./2021/2021-03/2021-03-10/Hololens2-MixedReality-WebRTC的使用问题.md)', '### 官方案例', '* [Hololens2-运行研究模式官方案例（SensorVisualization）](./2021/2021-03/2021-03-04/Hololens2-运行研究模式官方案例（SensorVisualization）.md)', '* [Hololens2-运行研究模式官方案例（CalibrationVisualization）](./2021/2021-03/2021-03-04/Hololens2-运行研究模式官方案例（CalibrationVisualization）.md)', '* [Hololens2-运行研究模式官方案例（CameraWithCVAndCalibration）](./2021/2021-03/2021-03-04/Hololens2-运行研究模式官方案例（CameraWithCVAndCalibration）.md)', '* [Hololens2-运行研究模式官方案例（StreamRecorder）](./2021/2021-03/2021-03-04/Hololens2-运行研究模式官方案例（StreamRecorder）.md)', '* [Hololens2-研究模式API文档翻译](./2021/2021-03/2021-03-07/Hololens2-研究模式API文档翻译.md)', '### Unity', '* [Hololens2-快速入门并实现3D对象手势操作（unity）](./2021/2021-02/2021-02-08/Hololens-快速入门并实现3D对象手势操作（unity）.md)', '* [Hololens2-快速实现一个实时时间显示模块（unity）](./2021/2021-03/2021-03-15/Hololens2-快速实现一个实时时间显示模块（unity）.md)', '* [Hololens2-捕获照片成文件并上传至服务器（unity）](./2021/2021-02/2021-02-17/Hololens-捕获照片成文件并上传至服务器（unity）.md)', '* [Hololens2-捕获照片到内存并上传至服务器（unity）](./2021/2021-02/2021-02-18/Hololens-捕获照片到内存并上传至服务器（unity）.md)', '* [Hololens2-获取经纬度位置信息（unity）](./2021/2021-02/2021-02-18/Hololens-获取经纬度位置信息（unity）.md)', '* [Hololens2-Unity项目整合Hololens2研究模式](./2021/2021-03/2021-03-05/Hololens2-Unity项目整合Hololens2研究模式.md)', '* [Hololens2-VS2019创建DLL项目供Unity调用](./2021/2021-03/2021-03-06/Hololens2-VS2019创建DLL项目供Unity调用.md)', '* [Hololens2-Unity项目获取IMU传感器数据](./2021/2021-03/2021-03-08/Hololens2-Unity项目获取IMU传感器数据.md)', '* [Hololens2-Unity解析JSON的几种方式](./2021/2021-03/2021-03-18/Hololens2-Unity解析JSON的几种方式.md)', '* [HoloLens2-实现HoloLens2与Web浏览器实时视频流通信（MixedReality-WebRTC）](./2021/2021-04/2021-04-04/HoloLens2-实现HoloLens2与Web浏览器实时视频流通信（MixedReality-WebRTC）.md)', '* [HoloLens2-使用UWP原生MediaCapture解决图像捕获与WebRTC视频流冲突问题](./2021/2021-05/2021-05-09/HoloLens2-使用UWP原生MediaCapture解决图像捕获与WebRTC视频流冲突问题.md)', '### Unreal', '* [Hololens2-构建国际象棋应用（unreal）](./2021/2021-02/2021-02-03/Hololens-构建国际象棋应用（unreal）.md)']\n"
     ]
    }
   ],
   "source": [
    "root = r'E:\\_code\\github\\make-a-little-progress-every-day'\n",
    "filename = '未来.md'\n",
    "\n",
    "lines = []\n",
    "with open(os.path.join(root, filename), mode='r', encoding='utf') as f:\n",
    "    _lines = f.readlines()\n",
    "    for line in _lines:\n",
    "        line = line.strip()\n",
    "        if line != '':\n",
    "            lines.append(line.strip())\n",
    "print(lines)"
   ]
  },
  {
   "cell_type": "code",
   "execution_count": 17,
   "metadata": {},
   "outputs": [
    {
     "output_type": "stream",
     "name": "stdout",
     "text": [
      "none\nnone\nnone\nHololens2-重刷系统（正常发布版本和内部预览版本） ./2021/2021-03/2021-03-02/Hololens2-重刷系统（正常发布版本和内部预览版本）.md\nHololens2-全息远程播放器使用（Holographic Remoting Player） ./2021/2021-03/2021-03-03/Hololens2-全息远程播放器使用（Holographic%20Remoting%20Player）.md\nHololens2-MixedReality-WebRTC的使用问题 ./2021/2021-03/2021-03-10/Hololens2-MixedReality-WebRTC的使用问题.md\nnone\nHololens2-运行研究模式官方案例（SensorVisualization） ./2021/2021-03/2021-03-04/Hololens2-运行研究模式官方案例（SensorVisualization）.md\nHololens2-运行研究模式官方案例（CalibrationVisualization） ./2021/2021-03/2021-03-04/Hololens2-运行研究模式官方案例（CalibrationVisualization）.md\nHololens2-运行研究模式官方案例（CameraWithCVAndCalibration） ./2021/2021-03/2021-03-04/Hololens2-运行研究模式官方案例（CameraWithCVAndCalibration）.md\nHololens2-运行研究模式官方案例（StreamRecorder） ./2021/2021-03/2021-03-04/Hololens2-运行研究模式官方案例（StreamRecorder）.md\nHololens2-研究模式API文档翻译 ./2021/2021-03/2021-03-07/Hololens2-研究模式API文档翻译.md\nnone\nHololens2-快速入门并实现3D对象手势操作（unity） ./2021/2021-02/2021-02-08/Hololens-快速入门并实现3D对象手势操作（unity）.md\nHololens2-快速实现一个实时时间显示模块（unity） ./2021/2021-03/2021-03-15/Hololens2-快速实现一个实时时间显示模块（unity）.md\nHololens2-捕获照片成文件并上传至服务器（unity） ./2021/2021-02/2021-02-17/Hololens-捕获照片成文件并上传至服务器（unity）.md\nHololens2-捕获照片到内存并上传至服务器（unity） ./2021/2021-02/2021-02-18/Hololens-捕获照片到内存并上传至服务器（unity）.md\nHololens2-获取经纬度位置信息（unity） ./2021/2021-02/2021-02-18/Hololens-获取经纬度位置信息（unity）.md\nHololens2-Unity项目整合Hololens2研究模式 ./2021/2021-03/2021-03-05/Hololens2-Unity项目整合Hololens2研究模式.md\nHololens2-VS2019创建DLL项目供Unity调用 ./2021/2021-03/2021-03-06/Hololens2-VS2019创建DLL项目供Unity调用.md\nHololens2-Unity项目获取IMU传感器数据 ./2021/2021-03/2021-03-08/Hololens2-Unity项目获取IMU传感器数据.md\nHololens2-Unity解析JSON的几种方式 ./2021/2021-03/2021-03-18/Hololens2-Unity解析JSON的几种方式.md\nHoloLens2-实现HoloLens2与Web浏览器实时视频流通信（MixedReality-WebRTC） ./2021/2021-04/2021-04-04/HoloLens2-实现HoloLens2与Web浏览器实时视频流通信（MixedReality-WebRTC）.md\nHoloLens2-使用UWP原生MediaCapture解决图像捕获与WebRTC视频流冲突问题 ./2021/2021-05/2021-05-09/HoloLens2-使用UWP原生MediaCapture解决图像捕获与WebRTC视频流冲突问题.md\nnone\nHololens2-构建国际象棋应用（unreal） ./2021/2021-02/2021-02-03/Hololens-构建国际象棋应用（unreal）.md\n"
     ]
    }
   ],
   "source": [
    "for line in lines:\n",
    "    # if line.startswith('# '):\n",
    "    #     print(1)\n",
    "    # elif line.startswith('## '):\n",
    "    #     print(2)\n",
    "    # elif line.startswith('### '):\n",
    "    #     print(3)\n",
    "    # matchObj = re.search('\\* [(.*?)]\\((.*?/(.*?-.*?-.*)/.*)\\)', line)\n",
    "    matchObj = re.search(r'\\* \\[(.*)\\]\\((.*/(.*?-.*?-.*)/)\\)', line)\n",
    "    if matchObj:\n",
    "        print(matchObj.group(1), matchObj.group(2))\n",
    "        # print(matchObj.group(1))\n",
    "    else:\n",
    "        print(\"none\")\n"
   ]
  },
  {
   "cell_type": "code",
   "execution_count": null,
   "metadata": {},
   "outputs": [],
   "source": []
  }
 ]
}