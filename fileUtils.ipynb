{
 "metadata": {
  "language_info": {
   "codemirror_mode": {
    "name": "ipython",
    "version": 3
   },
   "file_extension": ".py",
   "mimetype": "text/x-python",
   "name": "python",
   "nbconvert_exporter": "python",
   "pygments_lexer": "ipython3",
   "version": "3.7.5"
  },
  "orig_nbformat": 2,
  "kernelspec": {
   "name": "python375jvsc74a57bd07829761090864817ddb868c19975b340f23b38c504f5ffaec8661c2dba714e9b",
   "display_name": "Python 3.7.5 64-bit"
  }
 },
 "nbformat": 4,
 "nbformat_minor": 2,
 "cells": [
  {
   "cell_type": "code",
   "execution_count": 1,
   "metadata": {},
   "outputs": [],
   "source": [
    "import os\n",
    "import re\n",
    "import shutil\n",
    "from urllib.parse import unquote\n"
   ]
  },
  {
   "cell_type": "code",
   "execution_count": 2,
   "metadata": {},
   "outputs": [],
   "source": [
    "root = r'E:\\_code\\github\\make-a-little-progress-every-day'\n",
    "filename = '大数据.md'\n",
    "\n",
    "lines = []\n",
    "with open(os.path.join(root, filename), mode='r', encoding='utf') as f:\n",
    "    _lines = f.readlines()\n",
    "    for line in _lines:\n",
    "        line = line.strip()\n",
    "        if line != '':\n",
    "            lines.append(line.strip())\n",
    "# print(lines)\n",
    "\n",
    "def createDir(dirpath):\n",
    "    path = dirpath.strip()\n",
    "    # check if the dirPath exists\n",
    "    if not os.path.exists(path):\n",
    "        os.makedirs(path)\n",
    "        print(\"create <{}> successfully\".format(path))"
   ]
  },
  {
   "cell_type": "code",
   "execution_count": 3,
   "metadata": {},
   "outputs": [
    {
     "output_type": "stream",
     "name": "stdout",
     "text": [
      "create <E:\\_code\\github\\blog\\source\\_posts\\大数据> successfully\n",
      "create <E:\\_code\\github\\blog\\source\\_posts\\大数据\\Hadoop> successfully\n",
      "E:\\_code\\github\\blog\\source\\_posts\\大数据\\Hadoop\\20200608-Hadoop-安装和配置.md\n",
      "E:\\_code\\github\\blog\\source\\_posts\\大数据\\Hadoop\\20200608-Hadoop-伪分布式运行模式（一）.md\n",
      "E:\\_code\\github\\blog\\source\\_posts\\大数据\\Hadoop\\20200608-Hadoop-伪分布式运行模式（二）.md\n",
      "E:\\_code\\github\\blog\\source\\_posts\\大数据\\Hadoop\\20200609-Hadoop-伪分布式运行模式（三）.md\n",
      "E:\\_code\\github\\blog\\source\\_posts\\大数据\\Hadoop\\20200609-Hadoop-完全分布式运行模式（一）.md\n",
      "E:\\_code\\github\\blog\\source\\_posts\\大数据\\Hadoop\\20200609-Hadoop-完全分布式运行模式（二）.md\n",
      "create <E:\\_code\\github\\blog\\source\\_posts\\大数据\\Zookeeper> successfully\n",
      "E:\\_code\\github\\blog\\source\\_posts\\大数据\\Zookeeper\\20200611-Zookeeper-Zookeeper概述.md\n",
      "E:\\_code\\github\\blog\\source\\_posts\\大数据\\Zookeeper\\20200611-Zookeeper-本地模式安装部署.md\n",
      "E:\\_code\\github\\blog\\source\\_posts\\大数据\\Zookeeper\\20200611-Zookeeper-分布式安装部署.md\n",
      "E:\\_code\\github\\blog\\source\\_posts\\大数据\\Zookeeper\\20200612-Zookeeper-客户端命令行操作.md\n",
      "create <E:\\_code\\github\\blog\\source\\_posts\\大数据\\HBase> successfully\n",
      "E:\\_code\\github\\blog\\source\\_posts\\大数据\\HBase\\20200612-HBase-HBase安装部署.md\n",
      "E:\\_code\\github\\blog\\source\\_posts\\大数据\\HBase\\20200613-HBase-命令行操作.md\n",
      "E:\\_code\\github\\blog\\source\\_posts\\大数据\\HBase\\20200614-HBase-API操作之DDL.md\n",
      "E:\\_code\\github\\blog\\source\\_posts\\大数据\\HBase\\20200614-HBase-API操作之DML.md\n",
      "E:\\_code\\github\\blog\\source\\_posts\\大数据\\HBase\\20200615-HBase-API操作之与MR交互（一）.md\n",
      "E:\\_code\\github\\blog\\source\\_posts\\大数据\\HBase\\20200615-HBase-API操作之与MR交互（二）.md\n",
      "E:\\_code\\github\\blog\\source\\_posts\\大数据\\HBase\\20200615-HBase-API操作之与MR交互（三）.md\n",
      "create <E:\\_code\\github\\blog\\source\\_posts\\大数据\\Spark> successfully\n",
      "E:\\_code\\github\\blog\\source\\_posts\\大数据\\Spark\\20200616-Spark-Spark概述.md\n",
      "E:\\_code\\github\\blog\\source\\_posts\\大数据\\Spark\\20200616-Spark-Spark初体验.md\n",
      "E:\\_code\\github\\blog\\source\\_posts\\大数据\\Spark\\20200617-Spark-RDD概述.md\n",
      "E:\\_code\\github\\blog\\source\\_posts\\大数据\\Spark\\20200617-Spark-RDD转换算子总结（一）.md\n",
      "E:\\_code\\github\\blog\\source\\_posts\\大数据\\Spark\\20200617-Spark-RDD转换算子总结（二）.md\n",
      "create <E:\\_code\\github\\blog\\source\\_posts\\大数据\\其他> successfully\n",
      "E:\\_code\\github\\blog\\source\\_posts\\大数据\\其他\\20200618-GeoMesa-快速安装（基于HBase）.md\n",
      "E:\\_code\\github\\blog\\source\\_posts\\大数据\\其他\\20200618-GeoMesa-导入GDELT数据到HBase.md\n",
      "E:\\_code\\github\\blog\\source\\_posts\\大数据\\其他\\20200618-Zeppelin-快速安装配置.md\n"
     ]
    }
   ],
   "source": [
    "postRoot = r'E:\\_code\\github\\blog\\source\\_posts'\n",
    "newFilePath = postRoot\n",
    "curLevel = 0\n",
    "for line in lines:\n",
    "    if line.startswith('# '):\n",
    "        curLevel = 1\n",
    "        matchObj = re.match(r'# (.*)', line)\n",
    "        newFilePath = os.path.join(newFilePath, matchObj.group(1))\n",
    "        # print(newFilePath)\n",
    "        createDir(newFilePath)\n",
    "    elif line.startswith('## '):\n",
    "        if curLevel == 2:\n",
    "            newFilePath = re.search(r'(.*)\\\\.*', newFilePath).group(1)\n",
    "        curLevel = 2\n",
    "        matchObj = re.match(r'.* (.*)', line)\n",
    "        newFilePath = os.path.join(newFilePath, matchObj.group(1))\n",
    "        # print(newFilePath)\n",
    "        createDir(newFilePath)\n",
    "    elif line.startswith('### '):\n",
    "        if curLevel == 3:\n",
    "            newFilePath = re.search(r'(.*)\\\\.*', newFilePath).group(1)\n",
    "        curLevel = 3\n",
    "        matchObj = re.match(r'.* (.*)', line)\n",
    "        newFilePath = os.path.join(newFilePath, matchObj.group(1))\n",
    "        # print(newFilePath)\n",
    "        createDir(newFilePath)\n",
    "    \n",
    "    matchObj = re.search(r'\\* \\[(.*)\\]\\((.*/(.*?-.*?-.*)/.*)\\)', line)\n",
    "    if matchObj:\n",
    "        # print(matchObj.group(1), matchObj.group(2), matchObj.group(3))\n",
    "        filename = matchObj.group(1)\n",
    "        origin_filepath = matchObj.group(2)\n",
    "        createDate = matchObj.group(3)\n",
    "        filename = '{}-{}.md'.format(createDate.replace('-', ''), filename)\n",
    "        filename = os.path.join(newFilePath, filename)\n",
    "        print(filename)\n",
    "        shutil.copy(unquote(origin_filepath), filename)\n"
   ]
  },
  {
   "cell_type": "code",
   "execution_count": null,
   "metadata": {},
   "outputs": [],
   "source": []
  }
 ]
}