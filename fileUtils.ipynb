{
 "metadata": {
  "language_info": {
   "codemirror_mode": {
    "name": "ipython",
    "version": 3
   },
   "file_extension": ".py",
   "mimetype": "text/x-python",
   "name": "python",
   "nbconvert_exporter": "python",
   "pygments_lexer": "ipython3",
   "version": "3.7.5"
  },
  "orig_nbformat": 2,
  "kernelspec": {
   "name": "python375jvsc74a57bd07829761090864817ddb868c19975b340f23b38c504f5ffaec8661c2dba714e9b",
   "display_name": "Python 3.7.5 64-bit"
  }
 },
 "nbformat": 4,
 "nbformat_minor": 2,
 "cells": [
  {
   "cell_type": "code",
   "execution_count": 1,
   "metadata": {},
   "outputs": [],
   "source": [
    "import os\n",
    "import re\n",
    "import shutil\n",
    "from urllib.parse import unquote\n"
   ]
  },
  {
   "cell_type": "code",
   "execution_count": 2,
   "metadata": {},
   "outputs": [],
   "source": [
    "root = r'E:\\_code\\github\\make-a-little-progress-every-day'\n",
    "filename = 'GIS开发.md'\n",
    "\n",
    "lines = []\n",
    "with open(os.path.join(root, filename), mode='r', encoding='utf') as f:\n",
    "    _lines = f.readlines()\n",
    "    for line in _lines:\n",
    "        line = line.strip()\n",
    "        if line != '':\n",
    "            lines.append(line.strip())\n",
    "# print(lines)\n",
    "\n",
    "def createDir(dirpath):\n",
    "    path = dirpath.strip()\n",
    "    # check if the dirPath exists\n",
    "    if not os.path.exists(path):\n",
    "        os.makedirs(path)\n",
    "        print(\"create <{}> successfully\".format(path))"
   ]
  },
  {
   "cell_type": "code",
   "execution_count": 3,
   "metadata": {},
   "outputs": [
    {
     "output_type": "stream",
     "name": "stdout",
     "text": [
      "create <E:\\_code\\github\\blog\\source\\_posts\\GIS开发> successfully\n",
      "create <E:\\_code\\github\\blog\\source\\_posts\\GIS开发\\Arcgis> successfully\n",
      "E:\\_code\\github\\blog\\source\\_posts\\GIS开发\\Arcgis\\20200909-GIS小白教程：如何利用高程DEM数据构建三维地图模型（基于ArcScene）.md\n",
      "create <E:\\_code\\github\\blog\\source\\_posts\\GIS开发\\Cesium> successfully\n",
      "create <E:\\_code\\github\\blog\\source\\_posts\\GIS开发\\Cesium\\官方教程> successfully\n",
      "E:\\_code\\github\\blog\\source\\_posts\\GIS开发\\Cesium\\官方教程\\20200930-Cesium-Cartesian3相关API翻译.md\n",
      "E:\\_code\\github\\blog\\source\\_posts\\GIS开发\\Cesium\\官方教程\\20200927-Cesium官方教程9-粒子系统.md\n",
      "E:\\_code\\github\\blog\\source\\_posts\\GIS开发\\Cesium\\官方教程\\20201103-Cesium-Geometry and Appearances 几何图形和外观.md\n",
      "create <E:\\_code\\github\\blog\\source\\_posts\\GIS开发\\Cesium\\学习笔记> successfully\n",
      "E:\\_code\\github\\blog\\source\\_posts\\GIS开发\\Cesium\\学习笔记\\20200916-Cesium-手拉手教你发布自己的离线三维地形图.md\n",
      "E:\\_code\\github\\blog\\source\\_posts\\GIS开发\\Cesium\\学习笔记\\20200917-Cesium-基本使用介绍.md\n",
      "E:\\_code\\github\\blog\\source\\_posts\\GIS开发\\Cesium\\学习笔记\\20201028-Cesium-Viewer参数及属性信息.md\n",
      "E:\\_code\\github\\blog\\source\\_posts\\GIS开发\\Cesium\\学习笔记\\20200924-Cesium-坐标系统详解.md\n",
      "E:\\_code\\github\\blog\\source\\_posts\\GIS开发\\Cesium\\学习笔记\\20200925-Cesium-自定义镜头缩放.md\n",
      "E:\\_code\\github\\blog\\source\\_posts\\GIS开发\\Cesium\\学习笔记\\20200925-Cesium-鼠标拾取椭球、地形、模型坐标点详解.md\n",
      "E:\\_code\\github\\blog\\source\\_posts\\GIS开发\\Cesium\\学习笔记\\20200927-Cesium-GeoJson数据的显示和隐藏.md\n",
      "E:\\_code\\github\\blog\\source\\_posts\\GIS开发\\Cesium\\学习笔记\\20200929-Cesium-如何用鼠标绘制贴地点线面.md\n",
      "E:\\_code\\github\\blog\\source\\_posts\\GIS开发\\Cesium\\学习笔记\\20200929-Cesium-键盘控制3D飞机模型的移动.md\n",
      "E:\\_code\\github\\blog\\source\\_posts\\GIS开发\\Cesium\\学习笔记\\20200930-Cesium-加载3D飞机模型沿指定路线前进.md\n",
      "E:\\_code\\github\\blog\\source\\_posts\\GIS开发\\Cesium\\学习笔记\\20200930-Cesium-基于CZML模型的转向问题.md\n",
      "E:\\_code\\github\\blog\\source\\_posts\\GIS开发\\Cesium\\学习笔记\\20201010-Cesium1.74+Vue2.6.12环境搭建.md\n",
      "E:\\_code\\github\\blog\\source\\_posts\\GIS开发\\Cesium\\学习笔记\\20201030-Cesium-通过Shader添加雨雪天气效果.md\n",
      "E:\\_code\\github\\blog\\source\\_posts\\GIS开发\\Cesium\\学习笔记\\20201030-Cesium-通过Shader添加圆形扩散效果.md\n",
      "E:\\_code\\github\\blog\\source\\_posts\\GIS开发\\Cesium\\学习笔记\\20201029-Cesium源码剖析-Post Processing之物体描边（Silhouette）.md\n"
     ]
    }
   ],
   "source": [
    "postRoot = r'E:\\_code\\github\\blog\\source\\_posts'\n",
    "newFilePath = postRoot\n",
    "curLevel = 0\n",
    "for line in lines:\n",
    "    if line.startswith('# '):\n",
    "        curLevel = 1\n",
    "        matchObj = re.match(r'# (.*)', line)\n",
    "        newFilePath = os.path.join(newFilePath, matchObj.group(1))\n",
    "        # print(newFilePath)\n",
    "        createDir(newFilePath)\n",
    "    elif line.startswith('## '):\n",
    "        if curLevel == 2:\n",
    "            newFilePath = re.search(r'(.*)\\\\.*', newFilePath).group(1)\n",
    "        curLevel = 2\n",
    "        matchObj = re.match(r'.* (.*)', line)\n",
    "        newFilePath = os.path.join(newFilePath, matchObj.group(1))\n",
    "        # print(newFilePath)\n",
    "        createDir(newFilePath)\n",
    "    elif line.startswith('### '):\n",
    "        if curLevel == 3:\n",
    "            newFilePath = re.search(r'(.*)\\\\.*', newFilePath).group(1)\n",
    "        curLevel = 3\n",
    "        matchObj = re.match(r'.* (.*)', line)\n",
    "        newFilePath = os.path.join(newFilePath, matchObj.group(1))\n",
    "        # print(newFilePath)\n",
    "        createDir(newFilePath)\n",
    "    \n",
    "    matchObj = re.search(r'\\* \\[(.*)\\]\\((.*/(.*?-.*?-.*)/.*)\\)', line)\n",
    "    if matchObj:\n",
    "        # print(matchObj.group(1), matchObj.group(2), matchObj.group(3))\n",
    "        filename = matchObj.group(1)\n",
    "        origin_filepath = matchObj.group(2)\n",
    "        createDate = matchObj.group(3)\n",
    "        filename = '{}-{}.md'.format(createDate.replace('-', ''), filename)\n",
    "        filename = os.path.join(newFilePath, filename)\n",
    "        print(filename)\n",
    "        shutil.copy(unquote(origin_filepath), filename)\n"
   ]
  },
  {
   "cell_type": "code",
   "execution_count": null,
   "metadata": {},
   "outputs": [],
   "source": []
  }
 ]
}